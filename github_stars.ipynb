{
 "cells": [
  {
   "cell_type": "code",
   "execution_count": 1,
   "outputs": [],
   "source": [
    "%matplotlib inline\n",
    "\n",
    "import matplotlib\n",
    "import numpy as np\n",
    "import pandas as pd\n",
    "import seaborn as sns\n",
    "from matplotlib import pyplot as plt\n",
    "\n",
    "# matplotlibの文字化け対応\n",
    "try:\n",
    "    import japanize_matplotlib\n",
    "except ImportError:\n",
    "    raise\n",
    "\n",
    "matplotlib.style.use('ggplot')\n",
    "\n",
    "# seabornの文字化け対応\n",
    "sns.set(font='IPAexGothic')\n",
    "# sns.palplot(sns.hls_palette(24))\n",
    "\n",
    "\n",
    "# See https://note.nkmk.me/python-pandas-option-display/\n",
    "# pd.set_option('display.max_rows', 10)\n",
    "pd.set_option('display.max_columns', 50)\n",
    "pd.set_option('display.width', 150)\n",
    "pd.set_option('display.unicode.east_asian_width', True)"
   ],
   "metadata": {
    "collapsed": false
   }
  },
  {
   "cell_type": "code",
   "execution_count": 2,
   "outputs": [
    {
     "data": {
      "text/plain": "'2022-12-14'"
     },
     "execution_count": 2,
     "metadata": {},
     "output_type": "execute_result"
    }
   ],
   "source": [
    "import os\n",
    "from github import Github\n",
    "from dotenv import load_dotenv\n",
    "from datetime import datetime\n",
    "\n",
    "# .envファイルを読み込む\n",
    "load_dotenv()\n",
    "\n",
    "g = Github(os.environ['GITHUB_TOKEN'])\n",
    "\n",
    "today = datetime.today().strftime('%Y-%m-%d')\n",
    "today"
   ],
   "metadata": {
    "collapsed": false
   }
  },
  {
   "cell_type": "code",
   "execution_count": 3,
   "outputs": [
    {
     "name": "stdout",
     "output_type": "stream",
     "text": [
      "sr_github_stars=dj-database-url                   1306\n",
      "dj-rest-knox                       861\n",
      "dj-rest-auth                      1124\n",
      "django-allauth                    7629\n",
      "django-braces                     1859\n",
      "django-celery                     1474\n",
      "django-celery-beat                1269\n",
      "django-channels                   5463\n",
      "django-click                       214\n",
      "django-compressor                 2620\n",
      "django-configurations              950\n",
      "django-cors-headers               4814\n",
      "django-crispyforms                4579\n",
      "django-dbbackup                    682\n",
      "django-debug-toolbar              7288\n",
      "django-environ                    2670\n",
      "django-extensions                 5950\n",
      "django-filter                     3883\n",
      "django-import-export              2574\n",
      "django-lifecycle                  1020\n",
      "django-model-utils                2370\n",
      "django-money                      1353\n",
      "django-redis                      2475\n",
      "django-rest-swagger               2587\n",
      "django-storages                   2299\n",
      "django-silk                       3642\n",
      "django-taggit                     2959\n",
      "django-test-plus                   545\n",
      "djangorestframework              24624\n",
      "djangorestframework-simplejwt     3229\n",
      "Djoser                            2188\n",
      "model-bakery                       624\n",
      "pylint-django                      542\n",
      "pytest-django                     1123\n",
      "Wagtail                          13668\n",
      "dtype: int64\n"
     ]
    },
    {
     "data": {
      "text/plain": "djangorestframework              24624\nWagtail                          13668\ndjango-allauth                    7629\ndjango-debug-toolbar              7288\ndjango-extensions                 5950\ndjango-channels                   5463\ndjango-cors-headers               4814\ndjango-crispyforms                4579\ndjango-filter                     3883\ndjango-silk                       3642\ndjangorestframework-simplejwt     3229\ndjango-taggit                     2959\ndjango-environ                    2670\ndjango-compressor                 2620\ndjango-rest-swagger               2587\ndjango-import-export              2574\ndjango-redis                      2475\ndjango-model-utils                2370\ndjango-storages                   2299\nDjoser                            2188\ndjango-braces                     1859\ndjango-celery                     1474\ndjango-money                      1353\ndj-database-url                   1306\ndjango-celery-beat                1269\ndj-rest-auth                      1124\npytest-django                     1123\ndjango-lifecycle                  1020\ndjango-configurations              950\ndj-rest-knox                       861\ndjango-dbbackup                    682\nmodel-bakery                       624\ndjango-test-plus                   545\npylint-django                      542\ndjango-click                       214\ndtype: int64"
     },
     "execution_count": 3,
     "metadata": {},
     "output_type": "execute_result"
    }
   ],
   "source": [
    "# GitHubスター数でランキング（2022-12-14時点）\n",
    "\n",
    "sr_github_stars = pd.Series({\n",
    "    'dj-database-url': g.get_repo('jazzband/dj-database-url').stargazers_count,\n",
    "    'dj-rest-knox': g.get_repo('James1345/django-rest-knox').stargazers_count,\n",
    "    'dj-rest-auth': g.get_repo('iMerica/dj-rest-auth').stargazers_count,\n",
    "    'django-allauth': g.get_repo('pennersr/django-allauth').stargazers_count,\n",
    "    'django-braces': g.get_repo('brack3t/django-braces').stargazers_count,\n",
    "    'django-celery': g.get_repo('celery/django-celery').stargazers_count,\n",
    "    'django-celery-beat': g.get_repo('celery/django-celery-beat').stargazers_count,\n",
    "    'django-channels': g.get_repo('django/channels').stargazers_count,\n",
    "    'django-click': g.get_repo('GaretJax/django-click').stargazers_count,\n",
    "    'django-compressor': g.get_repo('django-compressor/django-compressor').stargazers_count,\n",
    "    'django-configurations': g.get_repo('jazzband/django-configurations').stargazers_count,\n",
    "    'django-cors-headers': g.get_repo('adamchainz/django-cors-headers').stargazers_count,\n",
    "    'django-crispyforms': g.get_repo('django-crispy-forms/django-crispy-forms').stargazers_count,\n",
    "    'django-dbbackup': g.get_repo('jazzband/django-dbbackup').stargazers_count,\n",
    "    'django-debug-toolbar': g.get_repo('jazzband/django-debug-toolbar').stargazers_count,\n",
    "    'django-environ': g.get_repo('joke2k/django-environ').stargazers_count,\n",
    "    'django-extensions': g.get_repo('django-extensions/django-extensions').stargazers_count,\n",
    "    'django-filter': g.get_repo('carltongibson/django-filter').stargazers_count,\n",
    "    'django-import-export': g.get_repo('django-import-export/django-import-export').stargazers_count,\n",
    "    'django-lifecycle': g.get_repo('rsinger86/django-lifecycle').stargazers_count,\n",
    "    'django-model-utils': g.get_repo('jazzband/django-model-utils').stargazers_count,\n",
    "    'django-money': g.get_repo('django-money/django-money').stargazers_count,\n",
    "    'django-redis': g.get_repo('jazzband/django-redis').stargazers_count,\n",
    "    'django-rest-swagger': g.get_repo('marcgibbons/django-rest-swagger').stargazers_count,\n",
    "    'django-storages': g.get_repo('jschneier/django-storages').stargazers_count,\n",
    "    'django-silk': g.get_repo('jazzband/django-silk').stargazers_count,\n",
    "    'django-taggit': g.get_repo('jazzband/django-taggit').stargazers_count,\n",
    "    'django-test-plus': g.get_repo('revsys/django-test-plus').stargazers_count,\n",
    "    'djangorestframework': g.get_repo('encode/django-rest-framework').stargazers_count,\n",
    "    'djangorestframework-simplejwt': g.get_repo('jazzband/djangorestframework-simplejwt').stargazers_count,\n",
    "    'Djoser': g.get_repo('sunscrapers/djoser').stargazers_count,\n",
    "    'model-bakery': g.get_repo('model-bakers/model_bakery').stargazers_count,\n",
    "    'pylint-django': g.get_repo('PyCQA/pylint-django').stargazers_count,\n",
    "    'pytest-django': g.get_repo('pytest-dev/pytest-django').stargazers_count,\n",
    "    'Wagtail': g.get_repo('wagtail/wagtail').stargazers_count,\n",
    "})\n",
    "\n",
    "print(f'{sr_github_stars=}')\n",
    "sr_github_stars = sr_github_stars.sort_values(ascending=False)\n",
    "sr_github_stars"
   ],
   "metadata": {
    "collapsed": false
   }
  },
  {
   "cell_type": "code",
   "execution_count": 4,
   "outputs": [
    {
     "data": {
      "text/plain": "djangorestframework              24624\nWagtail                          13668\ndjango-allauth                    7629\ndjango-debug-toolbar              7288\ndjango-extensions                 5950\ndjango-channels                   5463\ndjango-cors-headers               4814\ndjango-crispyforms                4579\ndjango-filter                     3883\ndjango-silk                       3642\ndjangorestframework-simplejwt     3229\ndjango-taggit                     2959\ndjango-environ                    2670\ndjango-compressor                 2620\ndjango-rest-swagger               2587\ndjango-import-export              2574\ndjango-redis                      2475\ndjango-model-utils                2370\ndjango-storages                   2299\nDjoser                            2188\ndjango-braces                     1859\ndjango-celery                     1474\ndjango-money                      1353\ndj-database-url                   1306\ndjango-celery-beat                1269\ndj-rest-auth                      1124\npytest-django                     1123\ndjango-lifecycle                  1020\ndjango-configurations              950\ndj-rest-knox                       861\ndjango-dbbackup                    682\nmodel-bakery                       624\ndjango-test-plus                   545\npylint-django                      542\ndjango-click                       214\ndtype: int64"
     },
     "execution_count": 4,
     "metadata": {},
     "output_type": "execute_result"
    }
   ],
   "source": [
    "# GitHubスター数でランキング（2022-12-14時点）\n",
    "\n",
    "sr_github_stars = pd.Series({\n",
    "    'dj-database-url': 1306,\n",
    "    'dj-rest-knox': 861,\n",
    "    'dj-rest-auth': 1124,\n",
    "    'django-allauth': 7629,\n",
    "    'django-braces': 1859,\n",
    "    'django-celery': 1474,\n",
    "    'django-celery-beat': 1269,\n",
    "    'django-channels': 5463,\n",
    "    'django-click': 214,\n",
    "    'django-compressor': 2620,\n",
    "    'django-configurations': 950,\n",
    "    'django-cors-headers': 4814,\n",
    "    'django-crispyforms': 4579,\n",
    "    'django-dbbackup': 682,\n",
    "    'django-debug-toolbar': 7288,\n",
    "    'django-environ': 2670,\n",
    "    'django-extensions': 5950,\n",
    "    'django-filter': 3883,\n",
    "    'django-import-export': 2574,\n",
    "    'django-lifecycle': 1020,\n",
    "    'django-model-utils': 2370,\n",
    "    'django-money': 1353,\n",
    "    'django-redis': 2475,\n",
    "    'django-rest-swagger': 2587,\n",
    "    'django-storages': 2299,\n",
    "    'django-silk': 3642,\n",
    "    'django-taggit': 2959,\n",
    "    'django-test-plus': 545,\n",
    "    'djangorestframework': 24624,\n",
    "    'djangorestframework-simplejwt': 3229,\n",
    "    'Djoser': 2188,\n",
    "    'model-bakery': 624,\n",
    "    'pylint-django': 542,\n",
    "    'pytest-django': 1123,\n",
    "    'Wagtail': 13668,\n",
    "})\n",
    "\n",
    "sr_github_stars = sr_github_stars.sort_values(ascending=False)\n",
    "sr_github_stars"
   ],
   "metadata": {
    "collapsed": false
   }
  }
 ],
 "metadata": {
  "kernelspec": {
   "display_name": "Python 3",
   "language": "python",
   "name": "python3"
  },
  "language_info": {
   "codemirror_mode": {
    "name": "ipython",
    "version": 2
   },
   "file_extension": ".py",
   "mimetype": "text/x-python",
   "name": "python",
   "nbconvert_exporter": "python",
   "pygments_lexer": "ipython2",
   "version": "2.7.6"
  }
 },
 "nbformat": 4,
 "nbformat_minor": 0
}
